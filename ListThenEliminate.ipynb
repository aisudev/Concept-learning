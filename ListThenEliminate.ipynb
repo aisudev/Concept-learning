{
  "nbformat": 4,
  "nbformat_minor": 0,
  "metadata": {
    "colab": {
      "name": "ListThenEliminate.ipynb",
      "provenance": [],
      "collapsed_sections": [],
      "authorship_tag": "ABX9TyMyYatKMe3JmZfoVzuWimXZ",
      "include_colab_link": true
    },
    "kernelspec": {
      "name": "python3",
      "display_name": "Python 3"
    },
    "accelerator": "GPU"
  },
  "cells": [
    {
      "cell_type": "markdown",
      "metadata": {
        "id": "view-in-github",
        "colab_type": "text"
      },
      "source": [
        "<a href=\"https://colab.research.google.com/github/aisudev/Concept-learning/blob/master/ListThenEliminate.ipynb\" target=\"_parent\"><img src=\"https://colab.research.google.com/assets/colab-badge.svg\" alt=\"Open In Colab\"/></a>"
      ]
    },
    {
      "cell_type": "markdown",
      "metadata": {
        "id": "m_FO97Z3p_f8"
      },
      "source": [
        "#Download Datasets"
      ]
    },
    {
      "cell_type": "code",
      "metadata": {
        "colab": {
          "base_uri": "https://localhost:8080/"
        },
        "id": "NoOWjZnelb9l",
        "outputId": "5c67cee7-eda4-495b-acca-82005a61a96d"
      },
      "source": [
        "!wget https://raw.githubusercontent.com/aisudev/Concept-learning/master/tennis.csv"
      ],
      "execution_count": 1,
      "outputs": [
        {
          "output_type": "stream",
          "text": [
            "--2020-12-27 17:21:55--  https://raw.githubusercontent.com/aisudev/Concept-learning/master/tennis.csv\n",
            "Resolving raw.githubusercontent.com (raw.githubusercontent.com)... 151.101.0.133, 151.101.64.133, 151.101.128.133, ...\n",
            "Connecting to raw.githubusercontent.com (raw.githubusercontent.com)|151.101.0.133|:443... connected.\n",
            "HTTP request sent, awaiting response... 200 OK\n",
            "Length: 470 [text/plain]\n",
            "Saving to: ‘tennis.csv.12’\n",
            "\n",
            "\rtennis.csv.12         0%[                    ]       0  --.-KB/s               \rtennis.csv.12       100%[===================>]     470  --.-KB/s    in 0s      \n",
            "\n",
            "2020-12-27 17:21:55 (16.9 MB/s) - ‘tennis.csv.12’ saved [470/470]\n",
            "\n"
          ],
          "name": "stdout"
        }
      ]
    },
    {
      "cell_type": "markdown",
      "metadata": {
        "id": "ner4zi6EqIfz"
      },
      "source": [
        "#Import Library"
      ]
    },
    {
      "cell_type": "code",
      "metadata": {
        "id": "MjgaX4FYqDv9"
      },
      "source": [
        "import numpy as np\n",
        "import pandas as pd"
      ],
      "execution_count": 2,
      "outputs": []
    },
    {
      "cell_type": "markdown",
      "metadata": {
        "id": "9E2riB5sqLdR"
      },
      "source": [
        "#Preprocessing"
      ]
    },
    {
      "cell_type": "code",
      "metadata": {
        "colab": {
          "base_uri": "https://localhost:8080/"
        },
        "id": "s7ssmorDqL6A",
        "outputId": "2e07b089-2d8c-452b-b4e6-d6e35c51a7fe"
      },
      "source": [
        "df = pd.read_csv('/content/tennis.csv')\n",
        "F = df.iloc[:4, 1:-1].values\n",
        "F = [list(i) for i in F]\n",
        "label = df.iloc[:4, -1:].values\n",
        "label = label.reshape(len(label))\n",
        "label = list(label)\n",
        "T = np.array(df.iloc[:4, -1:])\n",
        "T = np.unique(T)\n",
        "S = np.array(df.iloc[:4, 1:-1])\n",
        "S = S.T\n",
        "S = [np.unique(s) for s in S]\n",
        "print(F, label)\n",
        "print(S)\n",
        "print(T)"
      ],
      "execution_count": 3,
      "outputs": [
        {
          "output_type": "stream",
          "text": [
            "[['Sunny', 'Hot', 'High', 'Weak'], ['Sunny', 'Hot', 'High', 'Strong'], ['Overcast', 'Hot', 'High', 'Weak'], ['Rain', 'Mild', 'High', 'Weak']] ['No', 'No', 'Yes', 'Yes']\n",
            "[array(['Overcast', 'Rain', 'Sunny'], dtype=object), array(['Hot', 'Mild'], dtype=object), array(['High'], dtype=object), array(['Strong', 'Weak'], dtype=object)]\n",
            "['No' 'Yes']\n"
          ],
          "name": "stdout"
        }
      ]
    },
    {
      "cell_type": "markdown",
      "metadata": {
        "id": "qL_GFDa2qces"
      },
      "source": [
        "#Find n number of hyphotesis and unique features."
      ]
    },
    {
      "cell_type": "code",
      "metadata": {
        "id": "oUrt0SyMqqGk"
      },
      "source": [
        "def FindMax_Hypothesis(sample):\n",
        "    m = []\n",
        "    n = 1\n",
        "    for i in sample:\n",
        "        n *= len(i)\n",
        "        m.append(len(i))\n",
        "    return m, n"
      ],
      "execution_count": 4,
      "outputs": []
    },
    {
      "cell_type": "markdown",
      "metadata": {
        "id": "gzn2dK2sqs4l"
      },
      "source": [
        "#Expand Hypothesis"
      ]
    },
    {
      "cell_type": "code",
      "metadata": {
        "id": "NOu7XW4sqtxC"
      },
      "source": [
        "def expand(sample, maximum, all):\n",
        "    h = []\n",
        "    count = list(np.zeros((len(sample)), dtype=np.int))\n",
        "    while len(h) != all:\n",
        "        h.append([item[count[i]] for i, item in enumerate(sample)])\n",
        "        count[-1] += 1\n",
        "        for i in range(len(count)-1, -1, -1):\n",
        "            if count[i] == maximum[i] and i != 0:\n",
        "                count[i] = 0\n",
        "                count[i-1] += 1\n",
        "    return h"
      ],
      "execution_count": 5,
      "outputs": []
    },
    {
      "cell_type": "markdown",
      "metadata": {
        "id": "WjjDMDrVq4OB"
      },
      "source": [
        "#List Eliminate"
      ]
    },
    {
      "cell_type": "code",
      "metadata": {
        "id": "LzFnFA5vq4E2"
      },
      "source": [
        "def ListEliminate(hyphotesis, feature, target, trust):\r\n",
        "  h = []\r\n",
        "  temp = []\r\n",
        "  for item in hyphotesis:\r\n",
        "    if item not in feature:\r\n",
        "      temp.append(item)\r\n",
        "  for i in temp:\r\n",
        "    for j in trust:\r\n",
        "      x = [item for item in i]\r\n",
        "      x.append(j)\r\n",
        "      h.append(x)\r\n",
        "  for i in range(len(feature)):\r\n",
        "    temp = [item for item in feature[i]]\r\n",
        "    temp.append(target[i])\r\n",
        "    h.append(temp)\r\n",
        "  return h"
      ],
      "execution_count": 6,
      "outputs": []
    },
    {
      "cell_type": "code",
      "metadata": {
        "colab": {
          "base_uri": "https://localhost:8080/"
        },
        "id": "LYT84iPFA1wa",
        "outputId": "754e2e63-7ce0-4dd1-890a-96d96bec68f9"
      },
      "source": [
        "MAX, N = FindMax_Hypothesis(S)\r\n",
        "H = expand(S, MAX, N)\r\n",
        "H = ListEliminate(H, F, label, T)\r\n",
        "print(len(H), H)"
      ],
      "execution_count": 7,
      "outputs": [
        {
          "output_type": "stream",
          "text": [
            "20 [['Overcast', 'Hot', 'High', 'Strong', 'No'], ['Overcast', 'Hot', 'High', 'Strong', 'Yes'], ['Overcast', 'Mild', 'High', 'Strong', 'No'], ['Overcast', 'Mild', 'High', 'Strong', 'Yes'], ['Overcast', 'Mild', 'High', 'Weak', 'No'], ['Overcast', 'Mild', 'High', 'Weak', 'Yes'], ['Rain', 'Hot', 'High', 'Strong', 'No'], ['Rain', 'Hot', 'High', 'Strong', 'Yes'], ['Rain', 'Hot', 'High', 'Weak', 'No'], ['Rain', 'Hot', 'High', 'Weak', 'Yes'], ['Rain', 'Mild', 'High', 'Strong', 'No'], ['Rain', 'Mild', 'High', 'Strong', 'Yes'], ['Sunny', 'Mild', 'High', 'Strong', 'No'], ['Sunny', 'Mild', 'High', 'Strong', 'Yes'], ['Sunny', 'Mild', 'High', 'Weak', 'No'], ['Sunny', 'Mild', 'High', 'Weak', 'Yes'], ['Sunny', 'Hot', 'High', 'Weak', 'No'], ['Sunny', 'Hot', 'High', 'Strong', 'No'], ['Overcast', 'Hot', 'High', 'Weak', 'Yes'], ['Rain', 'Mild', 'High', 'Weak', 'Yes']]\n"
          ],
          "name": "stdout"
        }
      ]
    }
  ]
}