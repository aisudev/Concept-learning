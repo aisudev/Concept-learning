{
  "nbformat": 4,
  "nbformat_minor": 0,
  "metadata": {
    "colab": {
      "name": "FindS.ipynb",
      "provenance": [],
      "collapsed_sections": [],
      "authorship_tag": "ABX9TyNDvSXSEhiLii4KvX6EV7Wv",
      "include_colab_link": true
    },
    "kernelspec": {
      "name": "python3",
      "display_name": "Python 3"
    }
  },
  "cells": [
    {
      "cell_type": "markdown",
      "metadata": {
        "id": "view-in-github",
        "colab_type": "text"
      },
      "source": [
        "<a href=\"https://colab.research.google.com/github/aisudev/Concept-learning/blob/master/FindS.ipynb\" target=\"_parent\"><img src=\"https://colab.research.google.com/assets/colab-badge.svg\" alt=\"Open In Colab\"/></a>"
      ]
    },
    {
      "cell_type": "code",
      "metadata": {
        "id": "iOTJWqDVw27c"
      },
      "source": [
        "sample = [\n",
        "    ['sunny', 'warm', 'normal', 'strong', 'warm', 'same'],\n",
        "    ['sunny', 'warm', 'high', 'strong', 'warm', 'same'],\n",
        "    ['rainy', 'cold', 'high', 'strong', 'warm', 'change'],\n",
        "    ['sunny', 'warm', 'high', 'strong', 'cool', 'change']\n",
        "]\n",
        "true = ['Yes', 'Yes', 'No', 'Yes']"
      ],
      "execution_count": 1,
      "outputs": []
    },
    {
      "cell_type": "code",
      "metadata": {
        "id": "ivdwwdEnxLph"
      },
      "source": [
        "S = ['' for i in sample[0]]\n",
        "T = 'Yes'"
      ],
      "execution_count": 3,
      "outputs": []
    },
    {
      "cell_type": "code",
      "metadata": {
        "colab": {
          "base_uri": "https://localhost:8080/"
        },
        "id": "nTm-jZ1Hx4t2",
        "outputId": "853a756c-ca9e-4e8f-cb8a-f9b7ffdce448"
      },
      "source": [
        "for i in range(len(sample)):\n",
        "  if true[i] == T:\n",
        "    for j in range(len(sample[i])):\n",
        "      if S[j] == '':\n",
        "        S[j] = sample[i][j]\n",
        "      elif S[j] != sample[i][j]:\n",
        "        S[j] = '?'\n",
        "print(S)"
      ],
      "execution_count": 4,
      "outputs": [
        {
          "output_type": "stream",
          "text": [
            "['sunny', 'warm', '?', 'strong', '?', '?']\n"
          ],
          "name": "stdout"
        }
      ]
    }
  ]
}