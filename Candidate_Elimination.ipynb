{
  "nbformat": 4,
  "nbformat_minor": 0,
  "metadata": {
    "colab": {
      "name": "Candidate_Elimination.ipynb",
      "provenance": [],
      "collapsed_sections": [],
      "authorship_tag": "ABX9TyN/AcW05+5umdDI3Ly4Dz9i",
      "include_colab_link": true
    },
    "kernelspec": {
      "name": "python3",
      "display_name": "Python 3"
    }
  },
  "cells": [
    {
      "cell_type": "markdown",
      "metadata": {
        "id": "view-in-github",
        "colab_type": "text"
      },
      "source": [
        "<a href=\"https://colab.research.google.com/github/aisudev/Concept-learning/blob/master/Candidate_Elimination.ipynb\" target=\"_parent\"><img src=\"https://colab.research.google.com/assets/colab-badge.svg\" alt=\"Open In Colab\"/></a>"
      ]
    },
    {
      "cell_type": "markdown",
      "metadata": {
        "id": "oNAhnhpovdvQ"
      },
      "source": [
        "##Create Datasets"
      ]
    },
    {
      "cell_type": "code",
      "metadata": {
        "id": "Y520mZvUu0us"
      },
      "source": [
        "sample = [\n",
        "    ['sunny', 'warm', 'normal', 'strong', 'warm', 'same'],\n",
        "    ['sunny', 'warm', 'high', 'strong', 'warm', 'same'],\n",
        "    ['rainy', 'cold', 'high', 'strong', 'warm', 'change'],\n",
        "    ['sunny', 'warm', 'high', 'strong', 'cool', 'change']\n",
        "]\n",
        "true = ['Yes', 'Yes', 'No', 'Yes']"
      ],
      "execution_count": 1,
      "outputs": []
    },
    {
      "cell_type": "markdown",
      "metadata": {
        "id": "K5YQATl7vkjP"
      },
      "source": [
        "##Indentified Variable"
      ]
    },
    {
      "cell_type": "code",
      "metadata": {
        "id": "cHyQVkfavAoy"
      },
      "source": [
        "S = ['' for i in sample[0]]\n",
        "G = []\n",
        "T = 'Yes'"
      ],
      "execution_count": 2,
      "outputs": []
    },
    {
      "cell_type": "markdown",
      "metadata": {
        "id": "B7WBTZ2JvoVS"
      },
      "source": [
        "##Expand Hypothesis set G and S"
      ]
    },
    {
      "cell_type": "code",
      "metadata": {
        "id": "wbCVL6V2vEjd"
      },
      "source": [
        "for i in range(len(sample)):\n",
        "    if T == true[i]:\n",
        "        for j in range(len(S)):\n",
        "            if S[j] == '':\n",
        "                S[j] = sample[i][j]\n",
        "            else:\n",
        "                if S[j] != sample[i][j]:\n",
        "                    S[j] = '?'\n",
        "    else:\n",
        "        for j in range(len(S)):\n",
        "            if S[j] != sample[i][j] and S[j] != '?':\n",
        "                temp = ['?' for k in S]\n",
        "                temp[j] = S[j]\n",
        "                G.append(temp)"
      ],
      "execution_count": 3,
      "outputs": []
    },
    {
      "cell_type": "markdown",
      "metadata": {
        "id": "BdfNT9vXv0sD"
      },
      "source": [
        "##Cut Hyphothesis that not consist"
      ]
    },
    {
      "cell_type": "code",
      "metadata": {
        "colab": {
          "base_uri": "https://localhost:8080/"
        },
        "id": "5QkxyjR2vIoT",
        "outputId": "8d089a8f-3c8e-47d4-e348-ce5dfcd52c50"
      },
      "source": [
        "for i in range(len(S)):\n",
        "    if S[i] == '?':\n",
        "        for j in range(len(G)):\n",
        "            if G[j][i] != '?':\n",
        "                G.pop(j)\n",
        "                break\n",
        "print('G:', G)\n",
        "print('S:', S)"
      ],
      "execution_count": 4,
      "outputs": [
        {
          "output_type": "stream",
          "text": [
            "G: [['sunny', '?', '?', '?', '?', '?'], ['?', 'warm', '?', '?', '?', '?']]\n",
            "S: ['sunny', 'warm', '?', 'strong', '?', '?']\n"
          ],
          "name": "stdout"
        }
      ]
    },
    {
      "cell_type": "markdown",
      "metadata": {
        "id": "GWn1FtdNwL6d"
      },
      "source": [
        "##Find Hyphotesis between G and S"
      ]
    },
    {
      "cell_type": "code",
      "metadata": {
        "colab": {
          "base_uri": "https://localhost:8080/"
        },
        "id": "34wUFr63vQcK",
        "outputId": "0eac7ba3-5137-4ef6-84de-e1a80c48da18"
      },
      "source": [
        "H = []\n",
        "for i in range(len(G)):\n",
        "    for j in range(len(S)):\n",
        "        if S[j] != '?' and S[j] != G[i][j]:\n",
        "            temp = [x for x in G[i]]\n",
        "            temp[j] = S[j]\n",
        "            if temp not in H:\n",
        "                H.append(temp)\n",
        "print('H:', H)"
      ],
      "execution_count": 5,
      "outputs": [
        {
          "output_type": "stream",
          "text": [
            "H: [['sunny', 'warm', '?', '?', '?', '?'], ['sunny', '?', '?', 'strong', '?', '?'], ['?', 'warm', '?', 'strong', '?', '?']]\n"
          ],
          "name": "stdout"
        }
      ]
    }
  ]
}